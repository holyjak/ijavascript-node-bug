{
 "cells": [
  {
   "cell_type": "code",
   "execution_count": 2,
   "metadata": {
    "collapsed": false
   },
   "outputs": [
    {
     "ename": "Error",
     "evalue": "Cannot find module 'lodash'",
     "output_type": "error",
     "traceback": [
      "Error: Cannot find module 'lodash'",
      "    at Function.Module._resolveFilename (module.js:338:15)",
      "    at Function.Module._load (module.js:280:25)",
      "    at Module.require (module.js:364:17)",
      "    at require (module.js:380:17)",
      "    at evalmachine.<anonymous>:1:9",
      "    at run ([eval]:180:19)",
      "    at onMessage ([eval]:63:41)",
      "    at process.emit (events.js:98:17)",
      "    at handleMessage (child_process.js:322:10)",
      "    at Pipe.channel.onread (child_process.js:349:11)"
     ]
    }
   ],
   "source": [
    "var _ = require(\"lodash\"); // This should work but fails with \"Error: Cannot find module 'lodash'\"\n",
    "_.first([1])"
   ]
  },
  {
   "cell_type": "code",
   "execution_count": null,
   "metadata": {
    "collapsed": true
   },
   "outputs": [],
   "source": []
  }
 ],
 "metadata": {
  "kernelspec": {
   "display_name": "Javascript (Node.js)",
   "language": "javascript",
   "name": "javascript"
  },
  "language_info": {
   "file_extension": "js",
   "mimetype": "application/javascript",
   "name": "javascript",
   "version": "0.10.38"
  }
 },
 "nbformat": 4,
 "nbformat_minor": 0
}
